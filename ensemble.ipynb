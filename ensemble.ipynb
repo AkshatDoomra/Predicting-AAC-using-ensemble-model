{
 "cells": [
  {
   "cell_type": "code",
   "execution_count": 1,
   "id": "f879abb6",
   "metadata": {},
   "outputs": [],
   "source": [
    "import numpy as np\n",
    "import matplotlib.pyplot as plt\n",
    "import pandas as pd\n",
    "import seaborn as sns\n",
    "from sklearn.ensemble import VotingRegressor\n",
    "%matplotlib inline\n",
    "import xgboost as xgb\n",
    "\n",
    "from sklearn.model_selection import train_test_split"
   ]
  },
  {
   "cell_type": "code",
   "execution_count": 2,
   "id": "5bce80b7",
   "metadata": {},
   "outputs": [
    {
     "data": {
      "text/html": [
       "<div>\n",
       "<style scoped>\n",
       "    .dataframe tbody tr th:only-of-type {\n",
       "        vertical-align: middle;\n",
       "    }\n",
       "\n",
       "    .dataframe tbody tr th {\n",
       "        vertical-align: top;\n",
       "    }\n",
       "\n",
       "    .dataframe thead th {\n",
       "        text-align: right;\n",
       "    }\n",
       "</style>\n",
       "<table border=\"1\" class=\"dataframe\">\n",
       "  <thead>\n",
       "    <tr style=\"text-align: right;\">\n",
       "      <th></th>\n",
       "      <th>Na2O%</th>\n",
       "      <th>Ms</th>\n",
       "      <th>W/B</th>\n",
       "      <th>SA (m²/kg)</th>\n",
       "      <th>Kb</th>\n",
       "      <th>28d</th>\n",
       "    </tr>\n",
       "  </thead>\n",
       "  <tbody>\n",
       "    <tr>\n",
       "      <th>0</th>\n",
       "      <td>4.0</td>\n",
       "      <td>0.75</td>\n",
       "      <td>0.47</td>\n",
       "      <td>527</td>\n",
       "      <td>0.96</td>\n",
       "      <td>43.80</td>\n",
       "    </tr>\n",
       "    <tr>\n",
       "      <th>1</th>\n",
       "      <td>4.0</td>\n",
       "      <td>1.00</td>\n",
       "      <td>0.47</td>\n",
       "      <td>527</td>\n",
       "      <td>0.96</td>\n",
       "      <td>48.96</td>\n",
       "    </tr>\n",
       "    <tr>\n",
       "      <th>2</th>\n",
       "      <td>4.0</td>\n",
       "      <td>1.50</td>\n",
       "      <td>0.47</td>\n",
       "      <td>527</td>\n",
       "      <td>0.96</td>\n",
       "      <td>48.05</td>\n",
       "    </tr>\n",
       "    <tr>\n",
       "      <th>3</th>\n",
       "      <td>4.0</td>\n",
       "      <td>2.00</td>\n",
       "      <td>0.47</td>\n",
       "      <td>527</td>\n",
       "      <td>0.96</td>\n",
       "      <td>33.44</td>\n",
       "    </tr>\n",
       "    <tr>\n",
       "      <th>4</th>\n",
       "      <td>6.0</td>\n",
       "      <td>0.75</td>\n",
       "      <td>0.47</td>\n",
       "      <td>527</td>\n",
       "      <td>0.96</td>\n",
       "      <td>46.71</td>\n",
       "    </tr>\n",
       "  </tbody>\n",
       "</table>\n",
       "</div>"
      ],
      "text/plain": [
       "   Na2O%    Ms   W/B  SA (m²/kg)    Kb    28d\n",
       "0    4.0  0.75  0.47         527  0.96  43.80\n",
       "1    4.0  1.00  0.47         527  0.96  48.96\n",
       "2    4.0  1.50  0.47         527  0.96  48.05\n",
       "3    4.0  2.00  0.47         527  0.96  33.44\n",
       "4    6.0  0.75  0.47         527  0.96  46.71"
      ]
     },
     "execution_count": 2,
     "metadata": {},
     "output_type": "execute_result"
    }
   ],
   "source": [
    "AlkaliLoadData = pd.read_csv(\"C:/Users/aksha/OneDrive/Desktop/alkaliData.csv\", encoding='unicode_escape')\n",
    "AlkaliLoadData.head()"
   ]
  },
  {
   "cell_type": "code",
   "execution_count": 3,
   "id": "cd09ae55",
   "metadata": {},
   "outputs": [],
   "source": [
    "X= AlkaliLoadData.drop(columns='28d')\n",
    "y=AlkaliLoadData['28d']"
   ]
  },
  {
   "cell_type": "code",
   "execution_count": 4,
   "id": "fa14fd50",
   "metadata": {},
   "outputs": [],
   "source": [
    "model1 = xgb.XGBRegressor(objective='reg:squarederror', random_state=42)\n",
    "model2 = xgb.XGBRegressor(objective='reg:squarederror', random_state=42)"
   ]
  },
  {
   "cell_type": "code",
   "execution_count": 5,
   "id": "4f21ffad",
   "metadata": {},
   "outputs": [],
   "source": [
    "X_train, X_test, y_train, y_test = train_test_split(X, y, test_size=0.2, random_state=42)"
   ]
  },
  {
   "cell_type": "code",
   "execution_count": 6,
   "id": "869bfd67",
   "metadata": {},
   "outputs": [],
   "source": [
    "ensemble_model = VotingRegressor(estimators=[('model1', model1), ('model2', model2)])\n",
    "\n",
    "# Fit the ensemble model on the training data\n",
    "ensemble_model.fit(X_train, y_train)\n",
    "\n",
    "# Predict on the test set\n",
    "predictions = ensemble_model.predict(X_test)"
   ]
  },
  {
   "cell_type": "code",
   "execution_count": 7,
   "id": "ff81f6bf",
   "metadata": {},
   "outputs": [
    {
     "data": {
      "text/plain": [
       "0.7179260966438166"
      ]
     },
     "execution_count": 7,
     "metadata": {},
     "output_type": "execute_result"
    }
   ],
   "source": [
    "from sklearn.metrics import r2_score\n",
    "r2_score(y_test, predictions)"
   ]
  },
  {
   "cell_type": "code",
   "execution_count": 8,
   "id": "0877ee58",
   "metadata": {},
   "outputs": [],
   "source": [
    "from sklearn.metrics import mean_squared_error\n",
    "from sklearn.metrics import mean_absolute_percentage_error"
   ]
  },
  {
   "cell_type": "code",
   "execution_count": 10,
   "id": "b1694d3b",
   "metadata": {},
   "outputs": [
    {
     "name": "stdout",
     "output_type": "stream",
     "text": [
      "mean sq error  139.48688208877118\n"
     ]
    }
   ],
   "source": [
    "mse= mean_squared_error(y_test, predictions)\n",
    "print('mean sq error ', mse)"
   ]
  },
  {
   "cell_type": "code",
   "execution_count": 12,
   "id": "3ab2eaa2",
   "metadata": {},
   "outputs": [
    {
     "name": "stdout",
     "output_type": "stream",
     "text": [
      "mean absolute error is  8.380938699168544\n",
      "mean absolute percent error is  16.58722064161183\n"
     ]
    }
   ],
   "source": [
    "from sklearn.metrics import mean_absolute_error\n",
    "mae= mean_absolute_error(y_test, predictions)\n",
    "mape = np.mean(np.abs((y_test - predictions)/y_test))*100\n",
    "print('mean absolute error is ', mae)\n",
    "print('mean absolute percent error is ', mape)"
   ]
  },
  {
   "cell_type": "code",
   "execution_count": null,
   "id": "6adc181f",
   "metadata": {},
   "outputs": [],
   "source": []
  }
 ],
 "metadata": {
  "kernelspec": {
   "display_name": "Python 3 (ipykernel)",
   "language": "python",
   "name": "python3"
  },
  "language_info": {
   "codemirror_mode": {
    "name": "ipython",
    "version": 3
   },
   "file_extension": ".py",
   "mimetype": "text/x-python",
   "name": "python",
   "nbconvert_exporter": "python",
   "pygments_lexer": "ipython3",
   "version": "3.11.5"
  }
 },
 "nbformat": 4,
 "nbformat_minor": 5
}
